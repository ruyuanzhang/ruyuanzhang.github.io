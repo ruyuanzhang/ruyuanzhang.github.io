{
 "cells": [
  {
   "cell_type": "markdown",
   "metadata": {},
   "source": [
    "# 重参化(Reparameterization)的作用\n",
    "\n",
    "By Ru-Yuan Zhang\n",
    "Translated and derived from [LINK](http://gokererdogan.github.io/2016/07/01/reparameterization-trick/)"
   ]
  },
  {
   "cell_type": "markdown",
   "metadata": {},
   "source": [
    "在Kingma 和 Welling（2014 年）关于VAE的原文中，提到了重参数化(Reparameterization)技巧。重参数化\n",
    "\n",
    "假设我们有一个正态分布 $q$，其参数为 $\\theta$，具体为 $q_{\\theta}(x) = N(\\theta,1)$。我们想解决以下问题\n",
    "$$\n",
    "\\text{min}_{\\theta} \\quad E_q[x^2]\n",
    "$$\n",
    "这当然是一个相当愚蠢的问题，而且最优的 $\\theta$ 是显而易见的。我们想了解重参数化技巧如何帮助计算目标 $E_q[x^2]$ 的梯度。"
   ]
  },
  {
   "cell_type": "markdown",
   "metadata": {},
   "source": [
    "计算 $\\nabla_{\\theta} E_q[x^2]$ 的一种方法如下\n",
    "$$\n",
    "\\nabla_{\\theta} E_q[x^2] = \\nabla_{\\theta} \\int q_{\\theta}(x) x^2 dx = \\int x^2 \\nabla_{\\theta} q_{\\theta}(x) \\frac{q_{\\theta}(x)}{q_{\\theta}(x)} dx = \\int q_{\\theta}(x) \\nabla_{\\theta} \\log q_{\\theta}(x) x^2 dx = E_q[x^2 \\nabla_{\\theta} \\log q_{\\theta}(x)]\n",
    "$$\n",
    "\n",
    "在我们的例子中，$q_{\\theta}(x) = N(\\theta,1)$，这种方法得出\n",
    "$$\n",
    "\\nabla_{\\theta} E_q[x^2] = E_q[x^2 (x-\\theta)]\n",
    "$$"
   ]
  },
  {
   "cell_type": "markdown",
   "metadata": {},
   "source": [
    "重参数化技巧是一种重写期望的方法，这样我们求期望的分布就与参数 $\\theta$ 无关了。为此，我们需要使 $q$ 中的随机因素与 $\\theta$ 无关。因此，我们把 $x$ 写成\n",
    "$$\n",
    "x = \\theta + \\epsilon, \\quad \\epsilon \\sim N(0,1)\n",
    "$$\n",
    "然后，我们可以写出 \n",
    "$$\n",
    "E_q[x^2] = E_p[(\\theta+\\epsilon)^2]\n",
    "$$ \n",
    "其中 $p$ 是 $\\epsilon$ 的分布，即 $N(0,1)$。现在，我们可以把 $E_q[x^2]$ 的导数写如下\n",
    "$$\n",
    "\\nabla_{\\theta} E_q[x^2] = \\nabla_{\\theta} E_p[(\\theta+\\epsilon)^2] = E_p[2(\\theta+\\epsilon)]。\n",
    "$$"
   ]
  },
  {
   "cell_type": "markdown",
   "metadata": {},
   "source": [
    "现在，让我们比较一下这两种方法的方差；我们希望看到，第一种方法的方差较大，而重新参数化技巧则大大降低了方差。"
   ]
  },
  {
   "cell_type": "code",
   "execution_count": 2,
   "metadata": {
    "collapsed": false
   },
   "outputs": [
    {
     "name": "stdout",
     "output_type": "stream",
     "text": [
      "4.123032608893911\n",
      "4.0690527003813735\n"
     ]
    }
   ],
   "source": [
    "import numpy as np\n",
    "N = 1000\n",
    "theta = 2.0\n",
    "eps = np.random.randn(N)\n",
    "x = theta + eps\n",
    "\n",
    "grad1 = lambda x: np.sum(np.square(x)*(x-theta)) / x.size\n",
    "grad2 = lambda eps: np.sum(2*(theta + eps)) / x.size\n",
    "\n",
    "print(grad1(x))\n",
    "print(grad2(eps))"
   ]
  },
  {
   "cell_type": "markdown",
   "metadata": {},
   "source": [
    "让我们绘制不同样本量的方差。"
   ]
  },
  {
   "cell_type": "code",
   "execution_count": 3,
   "metadata": {
    "collapsed": false
   },
   "outputs": [
    {
     "name": "stdout",
     "output_type": "stream",
     "text": [
      "[4.17122868 3.87558084 4.01226787 4.00891375 3.99965225]\n",
      "[4.07831224 4.00082622 4.0002942  4.00003672 3.9999935 ]\n",
      "\n",
      "\n",
      "[9.00639146e+00 8.62340828e-01 7.14688062e-02 8.08338655e-03\n",
      " 9.57645160e-04]\n",
      "[4.01040381e-01 4.23572088e-02 4.16290247e-03 4.51501426e-04\n",
      " 4.45516975e-05]\n"
     ]
    }
   ],
   "source": [
    "Ns = [10, 100, 1000, 10000, 100000]\n",
    "reps = 100\n",
    "\n",
    "means1 = np.zeros(len(Ns))\n",
    "vars1 = np.zeros(len(Ns))\n",
    "means2 = np.zeros(len(Ns))\n",
    "vars2 = np.zeros(len(Ns))\n",
    "\n",
    "est1 = np.zeros(reps)\n",
    "est2 = np.zeros(reps)\n",
    "for i, N in enumerate(Ns):\n",
    "    for r in range(reps):\n",
    "        x = np.random.randn(N) + theta\n",
    "        est1[r] = grad1(x)\n",
    "        eps = np.random.randn(N)\n",
    "        est2[r] = grad2(eps)\n",
    "    means1[i] = np.mean(est1)\n",
    "    means2[i] = np.mean(est2)\n",
    "    vars1[i] = np.var(est1)\n",
    "    vars2[i] = np.var(est2)\n",
    "    \n",
    "print(means1)\n",
    "print(means2)\n",
    "print('\\n')\n",
    "print(vars1)\n",
    "print(vars2)"
   ]
  },
  {
   "cell_type": "code",
   "execution_count": 6,
   "metadata": {
    "collapsed": false
   },
   "outputs": [
    {
     "data": {
      "text/plain": [
       "Text(0, 0.5, 'Gradient Variance')"
      ]
     },
     "execution_count": 6,
     "metadata": {},
     "output_type": "execute_result"
    },
    {
     "data": {
      "image/png": "[encoded data removed]",
      "text/plain": [
       "<Figure size 640x480 with 1 Axes>"
      ]
     },
     "metadata": {},
     "output_type": "display_data"
    }
   ],
   "source": [
    "import matplotlib.pyplot as plt\n",
    "\n",
    "plt.plot(Ns, vars1)\n",
    "plt.plot(Ns, vars2)\n",
    "plt.legend(['no rt', 'rt'])\n",
    "plt.xlabel('Sample Size')\n",
    "plt.xscale('log')\n",
    "plt.ylabel('Gradient Variance')"
   ]
  },
  {
   "cell_type": "markdown",
   "metadata": {},
   "source": [
    "Variance of the estimates using reparameterization trick is one order of magnitude smaller than the estimates from the first method!"
   ]
  }
 ],
 "metadata": {
  "kernelspec": {
   "display_name": "base",
   "language": "python",
   "name": "python3"
  },
  "language_info": {
   "codemirror_mode": {
    "name": "ipython",
    "version": 3
   },
   "file_extension": ".py",
   "mimetype": "text/x-python",
   "name": "python",
   "nbconvert_exporter": "python",
   "pygments_lexer": "ipython3",
   "version": "3.10.14"
  }
 },
 "nbformat": 4,
 "nbformat_minor": 0
}
